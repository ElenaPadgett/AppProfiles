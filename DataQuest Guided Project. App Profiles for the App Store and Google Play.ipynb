{
 "cells": [
  {
   "cell_type": "markdown",
   "metadata": {},
   "source": [
    "Note: This is a Guided project from DataQuest. The data and the code in Part I was part of the course. Part II is my original work. "
   ]
  },
  {
   "cell_type": "markdown",
   "metadata": {},
   "source": [
    "# Part I"
   ]
  },
  {
   "cell_type": "markdown",
   "metadata": {},
   "source": [
    "### Loading Data"
   ]
  },
  {
   "cell_type": "markdown",
   "metadata": {},
   "source": [
    "First, let's load and transform the data into a list of lists. "
   ]
  },
  {
   "cell_type": "code",
   "execution_count": 1,
   "metadata": {},
   "outputs": [],
   "source": [
    "from csv import reader\n",
    "import pprint"
   ]
  },
  {
   "cell_type": "code",
   "execution_count": 2,
   "metadata": {},
   "outputs": [],
   "source": [
    "opened_file = open('googleplaystore.csv', encoding='utf-8')\n",
    "read_file = reader(opened_file)\n",
    "android = list(read_file)\n",
    "android_header = android[0]\n",
    "android = android[1:]"
   ]
  },
  {
   "cell_type": "code",
   "execution_count": 3,
   "metadata": {},
   "outputs": [],
   "source": [
    "opened_file = open('AppleStore.csv', encoding='utf-8')\n",
    "read_file = reader(opened_file)\n",
    "ios = list(read_file)\n",
    "ios_header = ios[0]\n",
    "ios = ios[1:]"
   ]
  },
  {
   "cell_type": "markdown",
   "metadata": {},
   "source": [
    "Now let's get a feel for the data and see what categories might be useful for our analysis."
   ]
  },
  {
   "cell_type": "code",
   "execution_count": 4,
   "metadata": {},
   "outputs": [
    {
     "name": "stdout",
     "output_type": "stream",
     "text": [
      "['App', 'Category', 'Rating', 'Reviews', 'Size', 'Installs', 'Type', 'Price', 'Content Rating', 'Genres', 'Last Updated', 'Current Ver', 'Android Ver']\n",
      "\n",
      "\n",
      "['Photo Editor & Candy Camera & Grid & ScrapBook', 'ART_AND_DESIGN', '4.1', '159', '19M', '10,000+', 'Free', '0', 'Everyone', 'Art & Design', '7-Jan-18', '1.0.0', '4.0.3 and up']\n",
      "\n",
      "\n",
      "['Coloring book moana', 'ART_AND_DESIGN', '3.9', '967', '14M', '500,000+', 'Free', '0', 'Everyone', 'Art & Design;Pretend Play', '15-Jan-18', '2.0.0', '4.0.3 and up']\n",
      "\n",
      "\n",
      "['U Launcher Lite – FREE Live Cool Themes, Hide Apps', 'ART_AND_DESIGN', '4.7', '87510', '8.7M', '5,000,000+', 'Free', '0', 'Everyone', 'Art & Design', '1-Aug-18', '1.2.4', '4.0.3 and up']\n",
      "\n",
      "\n",
      "Number of rows: 10840\n",
      "Number of columns: 13\n"
     ]
    }
   ],
   "source": [
    "def explore_data(dataset, start, end, rows_and_columns=False):\n",
    "    dataset_slice = dataset[start:end]    \n",
    "    for row in dataset_slice:\n",
    "        print(row)\n",
    "        print('\\n')\n",
    "        \n",
    "    if rows_and_columns:\n",
    "        print('Number of rows:', len(dataset))\n",
    "        print('Number of columns:', len(dataset[0]))\n",
    "\n",
    "print(android_header)\n",
    "print('\\n')\n",
    "explore_data(android, 0, 3, True)"
   ]
  },
  {
   "cell_type": "code",
   "execution_count": 5,
   "metadata": {},
   "outputs": [
    {
     "name": "stdout",
     "output_type": "stream",
     "text": [
      "['', 'id', 'track_name', 'size_bytes', 'currency', 'price', 'rating_count_tot', 'rating_count_ver', 'user_rating', 'user_rating_ver', 'ver', 'cont_rating', 'prime_genre', 'sup_devices.num', 'ipadSc_urls.num', 'lang.num', 'vpp_lic']\n",
      "\n",
      "\n",
      "['1', '281656475', 'PAC-MAN Premium', '100788224', 'USD', '3.99', '21292', '26', '4', '4.5', '6.3.5', '4+', 'Games', '38', '5', '10', '1']\n",
      "\n",
      "\n",
      "['2', '281796108', 'Evernote - stay organized', '158578688', 'USD', '0', '161065', '26', '4', '3.5', '8.2.2', '4+', 'Productivity', '37', '5', '23', '1']\n",
      "\n",
      "\n",
      "['3', '281940292', 'WeatherBug - Local Weather, Radar, Maps, Alerts', '100524032', 'USD', '0', '188583', '2822', '3.5', '4.5', '5.0.0', '4+', 'Weather', '37', '5', '3', '1']\n",
      "\n",
      "\n",
      "Number of rows: 7197\n",
      "Number of columns: 17\n"
     ]
    }
   ],
   "source": [
    "print(ios_header)\n",
    "print('\\n')\n",
    "explore_data(ios, 0, 3, True)"
   ]
  },
  {
   "cell_type": "markdown",
   "metadata": {},
   "source": [
    "### Removing Duplicate Entries"
   ]
  },
  {
   "cell_type": "markdown",
   "metadata": {},
   "source": [
    "In Google Play data set some apps have more than one entry. Usually different entries correspond to different number of reviews, probably due to data being collected at different times."
   ]
  },
  {
   "cell_type": "code",
   "execution_count": 6,
   "metadata": {},
   "outputs": [
    {
     "name": "stdout",
     "output_type": "stream",
     "text": [
      "1181\n",
      "['Quick PDF Scanner + OCR FREE', 'Box', 'Google My Business', 'ZOOM Cloud Meetings', 'join.me - Simple Meetings', 'Box', 'Zenefits', 'Google Ads', 'Google My Business', 'Slack', 'FreshBooks Classic', 'Insightly CRM', 'QuickBooks Accounting: Invoicing & Expenses', 'HipChat - Chat Built for Teams', 'Xero Accounting Software']\n"
     ]
    }
   ],
   "source": [
    "duplicate_apps = []\n",
    "unique_apps = []\n",
    "\n",
    "for app in android:\n",
    "    name = app[0]\n",
    "    if name in unique_apps:\n",
    "        duplicate_apps.append(name)\n",
    "    unique_apps.append(name)\n",
    "    \n",
    "print(len(duplicate_apps))\n",
    "print(duplicate_apps[:15])"
   ]
  },
  {
   "cell_type": "markdown",
   "metadata": {},
   "source": [
    "We need to remove the duplicate entries and keep only one entry per app. \n",
    "We'll keep the rows that have the highest number of reviews."
   ]
  },
  {
   "cell_type": "code",
   "execution_count": 7,
   "metadata": {},
   "outputs": [],
   "source": [
    "reviews_max = {}\n",
    "\n",
    "for app in android:\n",
    "    name = app[0]\n",
    "    n_reviews = float(app[3])\n",
    "    \n",
    "    if name in reviews_max and reviews_max[name] < n_reviews:\n",
    "        reviews_max[name] = n_reviews\n",
    "        \n",
    "    elif name not in reviews_max:\n",
    "        reviews_max[name] = n_reviews"
   ]
  },
  {
   "cell_type": "code",
   "execution_count": 8,
   "metadata": {},
   "outputs": [
    {
     "name": "stdout",
     "output_type": "stream",
     "text": [
      "Expected length: 9659\n",
      "Actual length: 9659\n"
     ]
    }
   ],
   "source": [
    "print('Expected length:', len(android) - 1181)\n",
    "print('Actual length:', len(reviews_max))"
   ]
  },
  {
   "cell_type": "code",
   "execution_count": 9,
   "metadata": {},
   "outputs": [],
   "source": [
    "android_clean = []\n",
    "already_added = []\n",
    "\n",
    "for app in android:\n",
    "    name = app[0]\n",
    "    n_reviews = float(app[3])\n",
    "    \n",
    "    if (reviews_max[name] == n_reviews) and (name not in already_added):\n",
    "        android_clean.append(app)\n",
    "        already_added.append(name)"
   ]
  },
  {
   "cell_type": "markdown",
   "metadata": {},
   "source": [
    "Now let's confirm that the number of rows in the new dataset is 9,659."
   ]
  },
  {
   "cell_type": "code",
   "execution_count": 10,
   "metadata": {},
   "outputs": [
    {
     "name": "stdout",
     "output_type": "stream",
     "text": [
      "['Photo Editor & Candy Camera & Grid & ScrapBook', 'ART_AND_DESIGN', '4.1', '159', '19M', '10,000+', 'Free', '0', 'Everyone', 'Art & Design', '7-Jan-18', '1.0.0', '4.0.3 and up']\n",
      "\n",
      "\n",
      "['U Launcher Lite – FREE Live Cool Themes, Hide Apps', 'ART_AND_DESIGN', '4.7', '87510', '8.7M', '5,000,000+', 'Free', '0', 'Everyone', 'Art & Design', '1-Aug-18', '1.2.4', '4.0.3 and up']\n",
      "\n",
      "\n",
      "['Sketch - Draw & Paint', 'ART_AND_DESIGN', '4.5', '215644', '25M', '50,000,000+', 'Free', '0', 'Teen', 'Art & Design', '8-Jun-18', 'Varies with device', '4.2 and up']\n",
      "\n",
      "\n",
      "Number of rows: 9659\n",
      "Number of columns: 13\n"
     ]
    }
   ],
   "source": [
    "explore_data(android_clean, 0, 3, True)"
   ]
  },
  {
   "cell_type": "markdown",
   "metadata": {},
   "source": [
    "### Removing Non-English Apps"
   ]
  },
  {
   "cell_type": "code",
   "execution_count": 11,
   "metadata": {},
   "outputs": [
    {
     "name": "stdout",
     "output_type": "stream",
     "text": [
      "True\n",
      "True\n"
     ]
    }
   ],
   "source": [
    "def is_English(string):\n",
    "    non_ascii = 0\n",
    "    \n",
    "    for character in string:\n",
    "        if ord(character) > 127:\n",
    "            non_ascii += 1\n",
    "    \n",
    "    if non_ascii > 3:\n",
    "        return False\n",
    "    else:\n",
    "        return True\n",
    "\n",
    "print(is_English('Docs To Go™ Free Office Suite'))\n",
    "print(is_English('Instachat 😜'))"
   ]
  },
  {
   "cell_type": "code",
   "execution_count": 12,
   "metadata": {},
   "outputs": [
    {
     "name": "stdout",
     "output_type": "stream",
     "text": [
      "['Photo Editor & Candy Camera & Grid & ScrapBook', 'ART_AND_DESIGN', '4.1', '159', '19M', '10,000+', 'Free', '0', 'Everyone', 'Art & Design', '7-Jan-18', '1.0.0', '4.0.3 and up']\n",
      "\n",
      "\n",
      "['U Launcher Lite – FREE Live Cool Themes, Hide Apps', 'ART_AND_DESIGN', '4.7', '87510', '8.7M', '5,000,000+', 'Free', '0', 'Everyone', 'Art & Design', '1-Aug-18', '1.2.4', '4.0.3 and up']\n",
      "\n",
      "\n",
      "['Sketch - Draw & Paint', 'ART_AND_DESIGN', '4.5', '215644', '25M', '50,000,000+', 'Free', '0', 'Teen', 'Art & Design', '8-Jun-18', 'Varies with device', '4.2 and up']\n",
      "\n",
      "\n",
      "Number of rows: 9614\n",
      "Number of columns: 13\n",
      "\n",
      "\n",
      "['1', '281656475', 'PAC-MAN Premium', '100788224', 'USD', '3.99', '21292', '26', '4', '4.5', '6.3.5', '4+', 'Games', '38', '5', '10', '1']\n",
      "\n",
      "\n",
      "['2', '281796108', 'Evernote - stay organized', '158578688', 'USD', '0', '161065', '26', '4', '3.5', '8.2.2', '4+', 'Productivity', '37', '5', '23', '1']\n",
      "\n",
      "\n",
      "['3', '281940292', 'WeatherBug - Local Weather, Radar, Maps, Alerts', '100524032', 'USD', '0', '188583', '2822', '3.5', '4.5', '5.0.0', '4+', 'Weather', '37', '5', '3', '1']\n",
      "\n",
      "\n",
      "Number of rows: 7197\n",
      "Number of columns: 17\n"
     ]
    }
   ],
   "source": [
    "android_english = []\n",
    "ios_english = []\n",
    "\n",
    "for app in android_clean:\n",
    "    name = app[0]\n",
    "    if is_English(name):\n",
    "        android_english.append(app)\n",
    "        \n",
    "for app in ios:\n",
    "    name = app[1]\n",
    "    if is_English(name):\n",
    "        ios_english.append(app)\n",
    "        \n",
    "explore_data(android_english, 0, 3, True)\n",
    "print('\\n')\n",
    "explore_data(ios_english, 0, 3, True)"
   ]
  },
  {
   "cell_type": "markdown",
   "metadata": {},
   "source": [
    "We now have 9614 Android apps and 7197 iOS apps to explore. Data is clean, no duplicates or wrong entries."
   ]
  },
  {
   "cell_type": "markdown",
   "metadata": {},
   "source": [
    "# Part II"
   ]
  },
  {
   "cell_type": "markdown",
   "metadata": {},
   "source": [
    "### Finding Patterns Among Popular Apps "
   ]
  },
  {
   "cell_type": "markdown",
   "metadata": {},
   "source": [
    "Our end goal is to find out which genres users seem to like the most based on app ratings."
   ]
  },
  {
   "cell_type": "markdown",
   "metadata": {},
   "source": [
    "First, we'll take a look at what app genres we have."
   ]
  },
  {
   "cell_type": "code",
   "execution_count": 13,
   "metadata": {},
   "outputs": [
    {
     "data": {
      "text/plain": [
       "['Art & Design',\n",
       " 'Art & Design',\n",
       " 'Art & Design',\n",
       " 'Art & Design;Creativity',\n",
       " 'Art & Design',\n",
       " 'Art & Design',\n",
       " 'Art & Design',\n",
       " 'Art & Design',\n",
       " 'Art & Design;Creativity',\n",
       " 'Art & Design']"
      ]
     },
     "execution_count": 13,
     "metadata": {},
     "output_type": "execute_result"
    }
   ],
   "source": [
    "genres = []\n",
    "for row in android_english:\n",
    "    genres.append(row[9])\n",
    "genres[:10]"
   ]
  },
  {
   "cell_type": "code",
   "execution_count": 14,
   "metadata": {},
   "outputs": [
    {
     "name": "stdout",
     "output_type": "stream",
     "text": [
      "['Art & Design', 'Art & Design;Creativity', 'Auto & Vehicles', 'Beauty', 'Books & Reference', 'Business', 'Comics', 'Comics;Creativity', 'Communication', 'Dating', 'Education', 'Education;Creativity', 'Education;Education', 'Education;Pretend Play', 'Education;Brain Games']\n",
      "118\n"
     ]
    }
   ],
   "source": [
    "unique_genres = []\n",
    "for g in genres:\n",
    "    if g not in unique_genres:\n",
    "        unique_genres.append(g)\n",
    "print(unique_genres[:15])\n",
    "print(len(unique_genres))"
   ]
  },
  {
   "cell_type": "markdown",
   "metadata": {},
   "source": [
    "Let's count how many times each genre occurs."
   ]
  },
  {
   "cell_type": "code",
   "execution_count": 15,
   "metadata": {},
   "outputs": [
    {
     "data": {
      "text/plain": [
       "{'Action': 299,\n",
       " 'Action;Action & Adventure': 12,\n",
       " 'Adventure': 72,\n",
       " 'Adventure;Action & Adventure': 5,\n",
       " 'Adventure;Brain Games': 1,\n",
       " 'Adventure;Education': 1,\n",
       " 'Arcade': 184,\n",
       " 'Arcade;Action & Adventure': 14,\n",
       " 'Arcade;Pretend Play': 1,\n",
       " 'Art & Design': 56,\n",
       " 'Art & Design;Action & Adventure': 1,\n",
       " 'Art & Design;Creativity': 6,\n",
       " 'Art & Design;Pretend Play': 1,\n",
       " 'Auto & Vehicles': 84,\n",
       " 'Beauty': 53,\n",
       " 'Board': 42,\n",
       " 'Board;Action & Adventure': 3,\n",
       " 'Board;Brain Games': 14,\n",
       " 'Board;Pretend Play': 1,\n",
       " 'Books & Reference': 218,\n",
       " 'Books & Reference;Creativity': 1,\n",
       " 'Books & Reference;Education': 2,\n",
       " 'Business': 419,\n",
       " 'Card': 47,\n",
       " 'Card;Action & Adventure': 2,\n",
       " 'Casino': 39,\n",
       " 'Casual': 165,\n",
       " 'Casual;Action & Adventure': 13,\n",
       " 'Casual;Brain Games': 12,\n",
       " 'Casual;Creativity': 6,\n",
       " 'Casual;Education': 3,\n",
       " 'Casual;Music & Video': 1,\n",
       " 'Casual;Pretend Play': 25,\n",
       " 'Comics': 54,\n",
       " 'Comics;Creativity': 1,\n",
       " 'Communication': 314,\n",
       " 'Communication;Creativity': 1,\n",
       " 'Dating': 170,\n",
       " 'Education': 503,\n",
       " 'Education;Action & Adventure': 4,\n",
       " 'Education;Brain Games': 4,\n",
       " 'Education;Creativity': 6,\n",
       " 'Education;Education': 35,\n",
       " 'Education;Music & Video': 3,\n",
       " 'Education;Pretend Play': 17,\n",
       " 'Educational': 37,\n",
       " 'Educational;Action & Adventure': 3,\n",
       " 'Educational;Brain Games': 6,\n",
       " 'Educational;Creativity': 5,\n",
       " 'Educational;Education': 38,\n",
       " 'Educational;Pretend Play': 13,\n",
       " 'Entertainment': 557,\n",
       " 'Entertainment;Action & Adventure': 3,\n",
       " 'Entertainment;Brain Games': 7,\n",
       " 'Entertainment;Creativity': 3,\n",
       " 'Entertainment;Education': 1,\n",
       " 'Entertainment;Music & Video': 15,\n",
       " 'Entertainment;Pretend Play': 2,\n",
       " 'Events': 64,\n",
       " 'Finance': 345,\n",
       " 'Food & Drink': 112,\n",
       " 'Health & Fitness': 288,\n",
       " 'Health & Fitness;Action & Adventure': 1,\n",
       " 'Health & Fitness;Education': 1,\n",
       " 'House & Home': 73,\n",
       " 'Libraries & Demo': 84,\n",
       " 'Lifestyle': 363,\n",
       " 'Lifestyle;Education': 1,\n",
       " 'Lifestyle;Pretend Play': 1,\n",
       " 'Maps & Navigation': 129,\n",
       " 'Medical': 395,\n",
       " 'Music': 19,\n",
       " 'Music & Audio;Music & Video': 1,\n",
       " 'Music;Music & Video': 3,\n",
       " 'News & Magazines': 250,\n",
       " 'Parenting': 46,\n",
       " 'Parenting;Brain Games': 1,\n",
       " 'Parenting;Education': 7,\n",
       " 'Parenting;Music & Video': 6,\n",
       " 'Personalization': 375,\n",
       " 'Photography': 280,\n",
       " 'Productivity': 373,\n",
       " 'Puzzle': 119,\n",
       " 'Puzzle;Action & Adventure': 3,\n",
       " 'Puzzle;Brain Games': 17,\n",
       " 'Puzzle;Creativity': 2,\n",
       " 'Puzzle;Education': 1,\n",
       " 'Racing': 91,\n",
       " 'Racing;Action & Adventure': 16,\n",
       " 'Racing;Pretend Play': 1,\n",
       " 'Role Playing': 104,\n",
       " 'Role Playing;Action & Adventure': 4,\n",
       " 'Role Playing;Brain Games': 1,\n",
       " 'Role Playing;Education': 1,\n",
       " 'Role Playing;Pretend Play': 4,\n",
       " 'Shopping': 201,\n",
       " 'Simulation': 190,\n",
       " 'Simulation;Action & Adventure': 7,\n",
       " 'Simulation;Education': 3,\n",
       " 'Simulation;Pretend Play': 3,\n",
       " 'Social': 239,\n",
       " 'Sports': 331,\n",
       " 'Sports;Action & Adventure': 4,\n",
       " 'Strategy': 94,\n",
       " 'Strategy;Action & Adventure': 2,\n",
       " 'Strategy;Creativity': 1,\n",
       " 'Strategy;Education': 1,\n",
       " 'Tools': 827,\n",
       " 'Tools;Education': 1,\n",
       " 'Travel & Local': 218,\n",
       " 'Travel & Local;Action & Adventure': 1,\n",
       " 'Trivia': 37,\n",
       " 'Trivia;Education': 1,\n",
       " 'Video Players & Editors': 161,\n",
       " 'Video Players & Editors;Creativity': 1,\n",
       " 'Video Players & Editors;Music & Video': 2,\n",
       " 'Weather': 79,\n",
       " 'Word': 23}"
      ]
     },
     "execution_count": 15,
     "metadata": {},
     "output_type": "execute_result"
    }
   ],
   "source": [
    "genres_dict = {}\n",
    "for g in genres:\n",
    "    if g in genres_dict:\n",
    "        genres_dict[g] += 1\n",
    "    else:\n",
    "        genres_dict[g] = 1\n",
    "genres_dict"
   ]
  },
  {
   "cell_type": "markdown",
   "metadata": {},
   "source": [
    "Some apps have no rating, so we'll remove those from our dataset."
   ]
  },
  {
   "cell_type": "code",
   "execution_count": 16,
   "metadata": {},
   "outputs": [
    {
     "name": "stdout",
     "output_type": "stream",
     "text": [
      "[['Photo Editor & Candy Camera & Grid & ScrapBook', 'ART_AND_DESIGN', '4.1', '159', '19M', '10,000+', 'Free', '0', 'Everyone', 'Art & Design', '7-Jan-18', '1.0.0', '4.0.3 and up'], ['U Launcher Lite – FREE Live Cool Themes, Hide Apps', 'ART_AND_DESIGN', '4.7', '87510', '8.7M', '5,000,000+', 'Free', '0', 'Everyone', 'Art & Design', '1-Aug-18', '1.2.4', '4.0.3 and up'], ['Sketch - Draw & Paint', 'ART_AND_DESIGN', '4.5', '215644', '25M', '50,000,000+', 'Free', '0', 'Teen', 'Art & Design', '8-Jun-18', 'Varies with device', '4.2 and up'], ['Pixel Draw - Number Art Coloring Book', 'ART_AND_DESIGN', '4.3', '967', '2.8M', '100,000+', 'Free', '0', 'Everyone', 'Art & Design;Creativity', '20-Jun-18', '1.1', '4.4 and up'], ['Paper flowers instructions', 'ART_AND_DESIGN', '4.4', '167', '5.6M', '50,000+', 'Free', '0', 'Everyone', 'Art & Design', '26-Mar-17', '1', '2.3 and up']]\n",
      "8166\n"
     ]
    }
   ],
   "source": [
    "android_final = []\n",
    "for app in android_english:\n",
    "    rating = app[2]\n",
    "    if rating != 'NaN':\n",
    "        android_final.append(app)\n",
    "print(android_final[:5])\n",
    "print(len(android_final))"
   ]
  },
  {
   "cell_type": "markdown",
   "metadata": {},
   "source": [
    "A new dictionary with genres as keys and average app ratings for that genre as values will help us answer our question."
   ]
  },
  {
   "cell_type": "code",
   "execution_count": 17,
   "metadata": {},
   "outputs": [
    {
     "name": "stdout",
     "output_type": "stream",
     "text": [
      "{'Action': 4.23038,\n",
      " 'Action;Action & Adventure': 3.98462,\n",
      " 'Adventure': 4.1169,\n",
      " 'Adventure;Action & Adventure': 3.58333,\n",
      " 'Adventure;Brain Games': 2.3,\n",
      " 'Adventure;Education': 2.05,\n",
      " 'Arcade': 4.24709,\n",
      " 'Arcade;Action & Adventure': 4.02857,\n",
      " 'Arcade;Pretend Play': 2.25,\n",
      " 'Art & Design': 4.27818,\n",
      " 'Art & Design;Action & Adventure': 0.0,\n",
      " 'Art & Design;Creativity': 3.72857,\n",
      " 'Art & Design;Pretend Play': 1.95,\n",
      " 'Auto & Vehicles': 4.13378,\n",
      " 'Beauty': 4.17907,\n",
      " 'Board': 4.1725,\n",
      " 'Board;Action & Adventure': 3.025,\n",
      " 'Board;Brain Games': 4.05333,\n",
      " 'Board;Pretend Play': 2.4,\n",
      " 'Books & Reference': 4.31845,\n",
      " 'Books & Reference;Creativity': 0.0,\n",
      " 'Books & Reference;Education': 2.8,\n",
      " 'Business': 4.08745,\n",
      " 'Card': 3.98222,\n",
      " 'Card;Action & Adventure': 2.86667,\n",
      " 'Casino': 4.17368,\n",
      " 'Casual': 4.07215,\n",
      " 'Casual;Action & Adventure': 3.90714,\n",
      " 'Casual;Brain Games': 4.13077,\n",
      " 'Casual;Creativity': 3.72857,\n",
      " 'Casual;Education': 3.2,\n",
      " 'Casual;Music & Video': 2.05,\n",
      " 'Casual;Pretend Play': 3.99231,\n",
      " 'Comics': 4.08679,\n",
      " 'Comics;Creativity': 2.4,\n",
      " 'Communication': 4.10545,\n",
      " 'Communication;Creativity': 2.1,\n",
      " 'Dating': 3.95075,\n",
      " 'Education': 4.28474,\n",
      " 'Education;Action & Adventure': 3.42,\n",
      " 'Education;Brain Games': 3.325,\n",
      " 'Education;Creativity': 3.7,\n",
      " 'Education;Education': 4.16389,\n",
      " 'Education;Music & Video': 3.1,\n",
      " 'Education;Pretend Play': 4.11667,\n",
      " 'Educational': 3.75455,\n",
      " 'Educational;Action & Adventure': 3.175,\n",
      " 'Educational;Brain Games': 3.61429,\n",
      " 'Educational;Creativity': 3.3,\n",
      " 'Educational;Education': 4.12778,\n",
      " 'Educational;Pretend Play': 3.92308,\n",
      " 'Entertainment': 4.07313,\n",
      " 'Entertainment;Action & Adventure': 3.15,\n",
      " 'Entertainment;Brain Games': 3.7625,\n",
      " 'Entertainment;Creativity': 3.4,\n",
      " 'Entertainment;Education': 2.2,\n",
      " 'Entertainment;Music & Video': 3.91875,\n",
      " 'Entertainment;Pretend Play': 2.66667,\n",
      " 'Events': 4.33913,\n",
      " 'Finance': 4.10198,\n",
      " 'Food & Drink': 4.12737,\n",
      " 'Health & Fitness': 4.22571,\n",
      " 'Health & Fitness;Action & Adventure': 1.95,\n",
      " 'Health & Fitness;Education': 2.35,\n",
      " 'House & Home': 4.07419,\n",
      " 'Libraries & Demo': 4.11385,\n",
      " 'Lifestyle': 4.07879,\n",
      " 'Lifestyle;Education': 2.15,\n",
      " 'Lifestyle;Pretend Play': 2.0,\n",
      " 'Maps & Navigation': 3.99746,\n",
      " 'Medical': 4.15155,\n",
      " 'Music': 3.94737,\n",
      " 'Music & Audio;Music & Video': 2.15,\n",
      " 'Music;Music & Video': 3.4,\n",
      " 'News & Magazines': 4.09104,\n",
      " 'Parenting': 4.23415,\n",
      " 'Parenting;Brain Games': 1.9,\n",
      " 'Parenting;Education': 2.9,\n",
      " 'Parenting;Music & Video': 3.71429,\n",
      " 'Personalization': 4.31773,\n",
      " 'Photography': 4.14015,\n",
      " 'Productivity': 4.16944,\n",
      " 'Puzzle': 4.32673,\n",
      " 'Puzzle;Action & Adventure': 3.225,\n",
      " 'Puzzle;Brain Games': 4.12778,\n",
      " 'Puzzle;Creativity': 2.93333,\n",
      " 'Puzzle;Education': 2.3,\n",
      " 'Racing': 4.1023,\n",
      " 'Racing;Action & Adventure': 4.03529,\n",
      " 'Racing;Pretend Play': 2.25,\n",
      " 'Role Playing': 4.23824,\n",
      " 'Role Playing;Action & Adventure': 3.54,\n",
      " 'Role Playing;Brain Games': 2.15,\n",
      " 'Role Playing;Education': 0.0,\n",
      " 'Role Playing;Pretend Play': 3.3,\n",
      " 'Shopping': 4.20718,\n",
      " 'Simulation': 4.11459,\n",
      " 'Simulation;Action & Adventure': 3.8,\n",
      " 'Simulation;Education': 3.275,\n",
      " 'Simulation;Pretend Play': 3.275,\n",
      " 'Social': 4.22647,\n",
      " 'Sports': 4.20749,\n",
      " 'Sports;Action & Adventure': 3.48,\n",
      " 'Strategy': 4.16484,\n",
      " 'Strategy;Action & Adventure': 3.06667,\n",
      " 'Strategy;Creativity': 2.2,\n",
      " 'Strategy;Education': 2.25,\n",
      " 'Tools': 4.03403,\n",
      " 'Tools;Education': 2.25,\n",
      " 'Travel & Local': 4.04759,\n",
      " 'Travel & Local;Action & Adventure': 2.05,\n",
      " 'Trivia': 3.87143,\n",
      " 'Trivia;Education': 0.0,\n",
      " 'Video Players & Editors': 4.01757,\n",
      " 'Video Players & Editors;Creativity': 2.05,\n",
      " 'Video Players & Editors;Music & Video': 2.66667,\n",
      " 'Weather': 4.18493,\n",
      " 'Word': 4.13043}\n"
     ]
    }
   ],
   "source": [
    "genres_ratings = {}\n",
    "for key in genres_dict:\n",
    "    ratings = []\n",
    "    for app in android_final:\n",
    "        if key == app[9]:\n",
    "            rating = float(app[2])\n",
    "            ratings.append(rating)\n",
    "    aver_rating = round(sum(ratings)/(len(ratings)+1), 5)\n",
    "    genres_ratings[key] = aver_rating\n",
    "pprint.pprint(genres_ratings)"
   ]
  },
  {
   "cell_type": "markdown",
   "metadata": {},
   "source": [
    "Based on app ratings, most users seem to like apps in the following categories: 'Events', 'Puzzle', 'Books and Reference', 'Personalization', 'Art & Design', 'Role Playing', and 'Parenting'. "
   ]
  }
 ],
 "metadata": {
  "kernelspec": {
   "display_name": "Python 3",
   "language": "python",
   "name": "python3"
  },
  "language_info": {
   "codemirror_mode": {
    "name": "ipython",
    "version": 3
   },
   "file_extension": ".py",
   "mimetype": "text/x-python",
   "name": "python",
   "nbconvert_exporter": "python",
   "pygments_lexer": "ipython3",
   "version": "3.6.4"
  }
 },
 "nbformat": 4,
 "nbformat_minor": 2
}
